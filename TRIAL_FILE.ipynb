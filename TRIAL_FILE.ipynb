{
 "cells": [
  {
   "cell_type": "markdown",
   "metadata": {},
   "source": [
    "## READ THE REQUIRED TWO TABLES "
   ]
  },
  {
   "cell_type": "code",
   "execution_count": 2,
   "metadata": {},
   "outputs": [],
   "source": [
    "import pandas as pd"
   ]
  },
  {
   "cell_type": "code",
   "execution_count": 3,
   "metadata": {},
   "outputs": [
    {
     "data": {
      "text/html": [
       "<div>\n",
       "<style scoped>\n",
       "    .dataframe tbody tr th:only-of-type {\n",
       "        vertical-align: middle;\n",
       "    }\n",
       "\n",
       "    .dataframe tbody tr th {\n",
       "        vertical-align: top;\n",
       "    }\n",
       "\n",
       "    .dataframe thead th {\n",
       "        text-align: right;\n",
       "    }\n",
       "</style>\n",
       "<table border=\"1\" class=\"dataframe\">\n",
       "  <thead>\n",
       "    <tr style=\"text-align: right;\">\n",
       "      <th></th>\n",
       "      <th>LineId</th>\n",
       "      <th>Date</th>\n",
       "      <th>Time</th>\n",
       "      <th>Pid</th>\n",
       "      <th>Level</th>\n",
       "      <th>Component</th>\n",
       "      <th>Content</th>\n",
       "      <th>EventId</th>\n",
       "      <th>EventTemplate</th>\n",
       "    </tr>\n",
       "  </thead>\n",
       "  <tbody>\n",
       "    <tr>\n",
       "      <th>0</th>\n",
       "      <td>1</td>\n",
       "      <td>81109</td>\n",
       "      <td>12:00:00 AM</td>\n",
       "      <td>143</td>\n",
       "      <td>INFO</td>\n",
       "      <td>dfs.DataNode$DataXceiver</td>\n",
       "      <td>Receiving block blk_-1608999687919862906 src: ...</td>\n",
       "      <td>E5</td>\n",
       "      <td>Receiving block &lt;*&gt; src: /&lt;*&gt; dest: /&lt;*&gt;</td>\n",
       "    </tr>\n",
       "    <tr>\n",
       "      <th>1</th>\n",
       "      <td>2</td>\n",
       "      <td>81109</td>\n",
       "      <td>1:00:00 AM</td>\n",
       "      <td>35</td>\n",
       "      <td>INFO</td>\n",
       "      <td>dfs.FSNamesystem</td>\n",
       "      <td>BLOCK* NameSystem.allocateBlock: /mnt/hadoop/m...</td>\n",
       "      <td>E22</td>\n",
       "      <td>BLOCK* NameSystem.allocateBlock:&lt;*&gt;</td>\n",
       "    </tr>\n",
       "  </tbody>\n",
       "</table>\n",
       "</div>"
      ],
      "text/plain": [
       "   LineId   Date         Time  Pid Level                 Component  \\\n",
       "0       1  81109  12:00:00 AM  143  INFO  dfs.DataNode$DataXceiver   \n",
       "1       2  81109   1:00:00 AM   35  INFO          dfs.FSNamesystem   \n",
       "\n",
       "                                             Content EventId  \\\n",
       "0  Receiving block blk_-1608999687919862906 src: ...      E5   \n",
       "1  BLOCK* NameSystem.allocateBlock: /mnt/hadoop/m...     E22   \n",
       "\n",
       "                              EventTemplate  \n",
       "0  Receiving block <*> src: /<*> dest: /<*>  \n",
       "1       BLOCK* NameSystem.allocateBlock:<*>  "
      ]
     },
     "execution_count": 3,
     "metadata": {},
     "output_type": "execute_result"
    }
   ],
   "source": [
    "data_train = pd.read_csv(\"C:/Users/mural/MDS/BLOCK6/DATA586/NEW/HDFS_1 (1)/HDFS_100k.log_structured.csv\")\n",
    "data_train.head(2)"
   ]
  },
  {
   "cell_type": "code",
   "execution_count": 4,
   "metadata": {},
   "outputs": [
    {
     "data": {
      "text/html": [
       "<div>\n",
       "<style scoped>\n",
       "    .dataframe tbody tr th:only-of-type {\n",
       "        vertical-align: middle;\n",
       "    }\n",
       "\n",
       "    .dataframe tbody tr th {\n",
       "        vertical-align: top;\n",
       "    }\n",
       "\n",
       "    .dataframe thead th {\n",
       "        text-align: right;\n",
       "    }\n",
       "</style>\n",
       "<table border=\"1\" class=\"dataframe\">\n",
       "  <thead>\n",
       "    <tr style=\"text-align: right;\">\n",
       "      <th></th>\n",
       "      <th>BlockId</th>\n",
       "      <th>Label</th>\n",
       "    </tr>\n",
       "  </thead>\n",
       "  <tbody>\n",
       "    <tr>\n",
       "      <th>0</th>\n",
       "      <td>blk_-1608999687919862906</td>\n",
       "      <td>Normal</td>\n",
       "    </tr>\n",
       "    <tr>\n",
       "      <th>1</th>\n",
       "      <td>blk_7503483334202473044</td>\n",
       "      <td>Normal</td>\n",
       "    </tr>\n",
       "  </tbody>\n",
       "</table>\n",
       "</div>"
      ],
      "text/plain": [
       "                    BlockId   Label\n",
       "0  blk_-1608999687919862906  Normal\n",
       "1   blk_7503483334202473044  Normal"
      ]
     },
     "execution_count": 4,
     "metadata": {},
     "output_type": "execute_result"
    }
   ],
   "source": [
    "data_label= pd.read_csv(\"C:/Users/mural/MDS/BLOCK6/DATA586/NEW/HDFS_1 (1)/anomaly_label.csv\")\n",
    "data_label.head(2)"
   ]
  },
  {
   "cell_type": "markdown",
   "metadata": {},
   "source": [
    "#### WE SHOULD NOW EXTRACT THE BLOCKIDS FROM BOTH OF THEM AND MERGE THE DATAFRAME:"
   ]
  },
  {
   "cell_type": "code",
   "execution_count": 5,
   "metadata": {},
   "outputs": [
    {
     "data": {
      "text/plain": [
       "0         Receiving block blk_-1608999687919862906 src: ...\n",
       "1         BLOCK* NameSystem.allocateBlock: /mnt/hadoop/m...\n",
       "2         Receiving block blk_-1608999687919862906 src: ...\n",
       "3         Receiving block blk_-1608999687919862906 src: ...\n",
       "4         PacketResponder 1 for block blk_-1608999687919...\n",
       "                                ...                        \n",
       "104810    Verification succeeded for blk_-87387097785867...\n",
       "104811    Verification succeeded for blk_642047611142564...\n",
       "104812    Verification succeeded for blk_-23823897510323...\n",
       "104813    Verification succeeded for blk_485603173001003...\n",
       "104814    Verification succeeded for blk_-49047501208105...\n",
       "Name: Content, Length: 104815, dtype: object"
      ]
     },
     "execution_count": 5,
     "metadata": {},
     "output_type": "execute_result"
    }
   ],
   "source": [
    "data_train['Content']"
   ]
  },
  {
   "cell_type": "code",
   "execution_count": 6,
   "metadata": {},
   "outputs": [],
   "source": [
    "data_train['id']=data_train['Content'].str.extract(r'(?:blk_|blk_-)(\\d+)')"
   ]
  },
  {
   "cell_type": "code",
   "execution_count": 7,
   "metadata": {},
   "outputs": [],
   "source": [
    "# moving throug the data the regex we used are correct:"
   ]
  },
  {
   "cell_type": "code",
   "execution_count": 8,
   "metadata": {},
   "outputs": [],
   "source": [
    "data_label['id']= data_label['BlockId'].str.extract(r'(?:blk_|blk_-)(\\d+)')"
   ]
  },
  {
   "cell_type": "markdown",
   "metadata": {},
   "source": [
    "#### Join both of these tables together"
   ]
  },
  {
   "cell_type": "code",
   "execution_count": 7,
   "metadata": {},
   "outputs": [
    {
     "data": {
      "text/plain": [
       "575061"
      ]
     },
     "execution_count": 7,
     "metadata": {},
     "output_type": "execute_result"
    }
   ],
   "source": [
    "len(data_label)"
   ]
  },
  {
   "cell_type": "code",
   "execution_count": 8,
   "metadata": {},
   "outputs": [
    {
     "data": {
      "text/plain": [
       "104815"
      ]
     },
     "execution_count": 8,
     "metadata": {},
     "output_type": "execute_result"
    }
   ],
   "source": [
    "len(data_train)"
   ]
  },
  {
   "cell_type": "code",
   "execution_count": 9,
   "metadata": {},
   "outputs": [],
   "source": [
    "train = data_train[['id','EventId']]"
   ]
  },
  {
   "cell_type": "code",
   "execution_count": 10,
   "metadata": {},
   "outputs": [
    {
     "data": {
      "text/html": [
       "<div>\n",
       "<style scoped>\n",
       "    .dataframe tbody tr th:only-of-type {\n",
       "        vertical-align: middle;\n",
       "    }\n",
       "\n",
       "    .dataframe tbody tr th {\n",
       "        vertical-align: top;\n",
       "    }\n",
       "\n",
       "    .dataframe thead th {\n",
       "        text-align: right;\n",
       "    }\n",
       "</style>\n",
       "<table border=\"1\" class=\"dataframe\">\n",
       "  <thead>\n",
       "    <tr style=\"text-align: right;\">\n",
       "      <th></th>\n",
       "      <th>id</th>\n",
       "      <th>EventId</th>\n",
       "      <th>BlockId</th>\n",
       "      <th>Label</th>\n",
       "    </tr>\n",
       "  </thead>\n",
       "  <tbody>\n",
       "    <tr>\n",
       "      <th>0</th>\n",
       "      <td>1608999687919862906</td>\n",
       "      <td>E5</td>\n",
       "      <td>blk_-1608999687919862906</td>\n",
       "      <td>Normal</td>\n",
       "    </tr>\n",
       "    <tr>\n",
       "      <th>1</th>\n",
       "      <td>1608999687919862906</td>\n",
       "      <td>E22</td>\n",
       "      <td>blk_-1608999687919862906</td>\n",
       "      <td>Normal</td>\n",
       "    </tr>\n",
       "    <tr>\n",
       "      <th>2</th>\n",
       "      <td>1608999687919862906</td>\n",
       "      <td>E5</td>\n",
       "      <td>blk_-1608999687919862906</td>\n",
       "      <td>Normal</td>\n",
       "    </tr>\n",
       "    <tr>\n",
       "      <th>3</th>\n",
       "      <td>1608999687919862906</td>\n",
       "      <td>E5</td>\n",
       "      <td>blk_-1608999687919862906</td>\n",
       "      <td>Normal</td>\n",
       "    </tr>\n",
       "    <tr>\n",
       "      <th>4</th>\n",
       "      <td>1608999687919862906</td>\n",
       "      <td>E11</td>\n",
       "      <td>blk_-1608999687919862906</td>\n",
       "      <td>Normal</td>\n",
       "    </tr>\n",
       "    <tr>\n",
       "      <th>...</th>\n",
       "      <td>...</td>\n",
       "      <td>...</td>\n",
       "      <td>...</td>\n",
       "      <td>...</td>\n",
       "    </tr>\n",
       "    <tr>\n",
       "      <th>104810</th>\n",
       "      <td>8738709778586756237</td>\n",
       "      <td>E2</td>\n",
       "      <td>blk_-8738709778586756237</td>\n",
       "      <td>Normal</td>\n",
       "    </tr>\n",
       "    <tr>\n",
       "      <th>104811</th>\n",
       "      <td>6420476111425645508</td>\n",
       "      <td>E2</td>\n",
       "      <td>blk_6420476111425645508</td>\n",
       "      <td>Normal</td>\n",
       "    </tr>\n",
       "    <tr>\n",
       "      <th>104812</th>\n",
       "      <td>2382389751032389929</td>\n",
       "      <td>E2</td>\n",
       "      <td>blk_-2382389751032389929</td>\n",
       "      <td>Normal</td>\n",
       "    </tr>\n",
       "    <tr>\n",
       "      <th>104813</th>\n",
       "      <td>4856031730010032819</td>\n",
       "      <td>E2</td>\n",
       "      <td>blk_4856031730010032819</td>\n",
       "      <td>Normal</td>\n",
       "    </tr>\n",
       "    <tr>\n",
       "      <th>104814</th>\n",
       "      <td>4904750120810562215</td>\n",
       "      <td>E2</td>\n",
       "      <td>blk_-4904750120810562215</td>\n",
       "      <td>Normal</td>\n",
       "    </tr>\n",
       "  </tbody>\n",
       "</table>\n",
       "<p>104815 rows × 4 columns</p>\n",
       "</div>"
      ],
      "text/plain": [
       "                         id EventId                   BlockId   Label\n",
       "0       1608999687919862906      E5  blk_-1608999687919862906  Normal\n",
       "1       1608999687919862906     E22  blk_-1608999687919862906  Normal\n",
       "2       1608999687919862906      E5  blk_-1608999687919862906  Normal\n",
       "3       1608999687919862906      E5  blk_-1608999687919862906  Normal\n",
       "4       1608999687919862906     E11  blk_-1608999687919862906  Normal\n",
       "...                     ...     ...                       ...     ...\n",
       "104810  8738709778586756237      E2  blk_-8738709778586756237  Normal\n",
       "104811  6420476111425645508      E2   blk_6420476111425645508  Normal\n",
       "104812  2382389751032389929      E2  blk_-2382389751032389929  Normal\n",
       "104813  4856031730010032819      E2   blk_4856031730010032819  Normal\n",
       "104814  4904750120810562215      E2  blk_-4904750120810562215  Normal\n",
       "\n",
       "[104815 rows x 4 columns]"
      ]
     },
     "execution_count": 10,
     "metadata": {},
     "output_type": "execute_result"
    }
   ],
   "source": [
    "# We should perform a left join from the values:\n",
    "data = pd.merge(train, data_label, on='id', how='left')\n",
    "data"
   ]
  },
  {
   "cell_type": "markdown",
   "metadata": {},
   "source": [
    "### AGGREGRATE THE VALUES FOR THE EVENT IDS:"
   ]
  },
  {
   "cell_type": "code",
   "execution_count": 11,
   "metadata": {},
   "outputs": [
    {
     "data": {
      "text/plain": [
       "pandas.core.series.Series"
      ]
     },
     "execution_count": 11,
     "metadata": {},
     "output_type": "execute_result"
    }
   ],
   "source": [
    "data_agg = data.groupby('BlockId')['EventId'].apply(lambda x: \"[%s]\" % ', '.join(x))\n",
    "type(data_agg)"
   ]
  },
  {
   "cell_type": "code",
   "execution_count": 12,
   "metadata": {},
   "outputs": [],
   "source": [
    "data_agg = data_agg.to_frame()\n",
    "data_agg = data_agg.reset_index()"
   ]
  },
  {
   "cell_type": "code",
   "execution_count": 13,
   "metadata": {},
   "outputs": [
    {
     "data": {
      "text/html": [
       "<div>\n",
       "<style scoped>\n",
       "    .dataframe tbody tr th:only-of-type {\n",
       "        vertical-align: middle;\n",
       "    }\n",
       "\n",
       "    .dataframe tbody tr th {\n",
       "        vertical-align: top;\n",
       "    }\n",
       "\n",
       "    .dataframe thead th {\n",
       "        text-align: right;\n",
       "    }\n",
       "</style>\n",
       "<table border=\"1\" class=\"dataframe\">\n",
       "  <thead>\n",
       "    <tr style=\"text-align: right;\">\n",
       "      <th></th>\n",
       "      <th>BlockId</th>\n",
       "      <th>EventId</th>\n",
       "    </tr>\n",
       "  </thead>\n",
       "  <tbody>\n",
       "    <tr>\n",
       "      <th>0</th>\n",
       "      <td>blk_-1001553972418305662</td>\n",
       "      <td>[E22, E5, E5, E5, E26, E26, E11, E9, E11, E9, ...</td>\n",
       "    </tr>\n",
       "    <tr>\n",
       "      <th>1</th>\n",
       "      <td>blk_-1010952805175971965</td>\n",
       "      <td>[E22, E5, E5, E5, E26, E26, E26, E11, E9, E11,...</td>\n",
       "    </tr>\n",
       "    <tr>\n",
       "      <th>2</th>\n",
       "      <td>blk_-1011482868748761910</td>\n",
       "      <td>[E22, E5, E5, E5, E26, E26, E11, E9, E11, E9, ...</td>\n",
       "    </tr>\n",
       "    <tr>\n",
       "      <th>3</th>\n",
       "      <td>blk_-1011537904811654030</td>\n",
       "      <td>[E5, E22, E5, E5, E11, E9, E11, E9, E11, E9, E...</td>\n",
       "    </tr>\n",
       "    <tr>\n",
       "      <th>4</th>\n",
       "      <td>blk_-1015291919896450721</td>\n",
       "      <td>[E22, E5, E5, E5, E26, E9, E11, E9, E26, E26, ...</td>\n",
       "    </tr>\n",
       "    <tr>\n",
       "      <th>...</th>\n",
       "      <td>...</td>\n",
       "      <td>...</td>\n",
       "    </tr>\n",
       "    <tr>\n",
       "      <th>7935</th>\n",
       "      <td>blk_989409441141247289</td>\n",
       "      <td>[E22, E5, E5, E5, E26, E26, E26, E11, E9, E11,...</td>\n",
       "    </tr>\n",
       "    <tr>\n",
       "      <th>7936</th>\n",
       "      <td>blk_989757635324841895</td>\n",
       "      <td>[E5, E22, E5, E5, E11, E9, E11, E9, E11, E9, E...</td>\n",
       "    </tr>\n",
       "    <tr>\n",
       "      <th>7937</th>\n",
       "      <td>blk_992037777600190687</td>\n",
       "      <td>[E22, E5, E5, E5, E26, E26, E11, E9, E11, E9, ...</td>\n",
       "    </tr>\n",
       "    <tr>\n",
       "      <th>7938</th>\n",
       "      <td>blk_993316727245644324</td>\n",
       "      <td>[E22, E5, E5, E5, E11, E9, E11, E9, E11, E9, E...</td>\n",
       "    </tr>\n",
       "    <tr>\n",
       "      <th>7939</th>\n",
       "      <td>blk_998788538234313747</td>\n",
       "      <td>[E22, E5, E5, E5, E26, E26, E11, E9, E11, E9, ...</td>\n",
       "    </tr>\n",
       "  </tbody>\n",
       "</table>\n",
       "<p>7940 rows × 2 columns</p>\n",
       "</div>"
      ],
      "text/plain": [
       "                       BlockId  \\\n",
       "0     blk_-1001553972418305662   \n",
       "1     blk_-1010952805175971965   \n",
       "2     blk_-1011482868748761910   \n",
       "3     blk_-1011537904811654030   \n",
       "4     blk_-1015291919896450721   \n",
       "...                        ...   \n",
       "7935    blk_989409441141247289   \n",
       "7936    blk_989757635324841895   \n",
       "7937    blk_992037777600190687   \n",
       "7938    blk_993316727245644324   \n",
       "7939    blk_998788538234313747   \n",
       "\n",
       "                                                EventId  \n",
       "0     [E22, E5, E5, E5, E26, E26, E11, E9, E11, E9, ...  \n",
       "1     [E22, E5, E5, E5, E26, E26, E26, E11, E9, E11,...  \n",
       "2     [E22, E5, E5, E5, E26, E26, E11, E9, E11, E9, ...  \n",
       "3     [E5, E22, E5, E5, E11, E9, E11, E9, E11, E9, E...  \n",
       "4     [E22, E5, E5, E5, E26, E9, E11, E9, E26, E26, ...  \n",
       "...                                                 ...  \n",
       "7935  [E22, E5, E5, E5, E26, E26, E26, E11, E9, E11,...  \n",
       "7936  [E5, E22, E5, E5, E11, E9, E11, E9, E11, E9, E...  \n",
       "7937  [E22, E5, E5, E5, E26, E26, E11, E9, E11, E9, ...  \n",
       "7938  [E22, E5, E5, E5, E11, E9, E11, E9, E11, E9, E...  \n",
       "7939  [E22, E5, E5, E5, E26, E26, E11, E9, E11, E9, ...  \n",
       "\n",
       "[7940 rows x 2 columns]"
      ]
     },
     "execution_count": 13,
     "metadata": {},
     "output_type": "execute_result"
    }
   ],
   "source": [
    "data_agg"
   ]
  },
  {
   "cell_type": "code",
   "execution_count": 14,
   "metadata": {},
   "outputs": [],
   "source": [
    "data_agg = pd.merge(data_agg, data[['BlockId','Label']], on= 'BlockId', how='inner').drop_duplicates()"
   ]
  },
  {
   "cell_type": "markdown",
   "metadata": {},
   "source": [
    "#### FEATURE EXTRACTION WORK"
   ]
  },
  {
   "cell_type": "code",
   "execution_count": 15,
   "metadata": {},
   "outputs": [],
   "source": [
    "from sklearn.feature_extraction.text import TfidfVectorizer"
   ]
  },
  {
   "cell_type": "code",
   "execution_count": 16,
   "metadata": {},
   "outputs": [],
   "source": [
    "vec = TfidfVectorizer()\n",
    "x_train_features = vec.fit_transform(data_agg['EventId'])"
   ]
  },
  {
   "cell_type": "code",
   "execution_count": 19,
   "metadata": {},
   "outputs": [
    {
     "data": {
      "text/plain": [
       "<7940x19 sparse matrix of type '<class 'numpy.float64'>'\n",
       "\twith 40978 stored elements in Compressed Sparse Row format>"
      ]
     },
     "metadata": {},
     "output_type": "display_data"
    }
   ],
   "source": [
    "display(x_train_features)"
   ]
  },
  {
   "cell_type": "code",
   "execution_count": 17,
   "metadata": {},
   "outputs": [],
   "source": [
    "y_train_features = data_agg['Label']"
   ]
  },
  {
   "cell_type": "code",
   "execution_count": 20,
   "metadata": {},
   "outputs": [
    {
     "data": {
      "text/plain": [
       "7280      Normal\n",
       "94382    Anomaly\n",
       "Name: Label, dtype: object"
      ]
     },
     "execution_count": 20,
     "metadata": {},
     "output_type": "execute_result"
    }
   ],
   "source": [
    "y_train.head(2)"
   ]
  }
 ],
 "metadata": {
  "kernelspec": {
   "display_name": "Python 3",
   "language": "python",
   "name": "python3"
  },
  "language_info": {
   "codemirror_mode": {
    "name": "ipython",
    "version": 3
   },
   "file_extension": ".py",
   "mimetype": "text/x-python",
   "name": "python",
   "nbconvert_exporter": "python",
   "pygments_lexer": "ipython3",
   "version": "3.8.3"
  }
 },
 "nbformat": 4,
 "nbformat_minor": 4
}
